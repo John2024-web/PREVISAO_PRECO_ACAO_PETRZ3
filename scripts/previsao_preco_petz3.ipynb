{
  "nbformat": 4,
  "nbformat_minor": 0,
  "metadata": {
    "colab": {
      "provenance": [],
      "collapsed_sections": [
        "5AvAJEhaYHtJ",
        "FwDXaa-VYM_S",
        "AZ6SEdxwcezs",
        "ILWTzyAFc5YG",
        "GrrY23V9qbqh"
      ]
    },
    "kernelspec": {
      "name": "python3",
      "display_name": "Python 3"
    },
    "language_info": {
      "name": "python"
    }
  },
  "cells": [
    {
      "cell_type": "markdown",
      "source": [
        "#### Instalando a biblioteca yfinance"
      ],
      "metadata": {
        "id": "bgTRUeibdWA3"
      }
    },
    {
      "cell_type": "code",
      "source": [
        "#!pip install yfinance --upgrade --no-cache-dir"
      ],
      "metadata": {
        "id": "CM9GoQwedSkK"
      },
      "execution_count": null,
      "outputs": []
    },
    {
      "cell_type": "markdown",
      "source": [
        "## 1.0 Import"
      ],
      "metadata": {
        "id": "5AvAJEhaYHtJ"
      }
    },
    {
      "cell_type": "code",
      "source": [
        "import pandas as pd\n",
        "import pandas_datareader.data as web\n",
        "import numpy as np\n",
        "import yfinance as yf \n",
        "yf.pdr_override()\n",
        "\n",
        "from sklearn import preprocessing\n",
        "from sklearn.model_selection import train_test_split\n",
        "from sklearn.linear_model import LinearRegression"
      ],
      "metadata": {
        "id": "jjTOEykyUr1k"
      },
      "execution_count": null,
      "outputs": []
    },
    {
      "cell_type": "markdown",
      "source": [
        "## 2.0 extraindo os dados "
      ],
      "metadata": {
        "id": "FwDXaa-VYM_S"
      }
    },
    {
      "cell_type": "code",
      "source": [
        "petr = web.get_data_yahoo('PETZ3.SA')"
      ],
      "metadata": {
        "colab": {
          "base_uri": "https://localhost:8080/"
        },
        "id": "ewGDcjiTYEke",
        "outputId": "b1653d59-bb27-4b1d-9324-71a369de9cef"
      },
      "execution_count": null,
      "outputs": [
        {
          "output_type": "stream",
          "name": "stdout",
          "text": [
            "\r[*********************100%***********************]  1 of 1 completed\n"
          ]
        }
      ]
    },
    {
      "cell_type": "markdown",
      "source": [
        "### 2.1 Verificando os dados"
      ],
      "metadata": {
        "id": "AZ6SEdxwcezs"
      }
    },
    {
      "cell_type": "code",
      "source": [
        "petr.shape"
      ],
      "metadata": {
        "colab": {
          "base_uri": "https://localhost:8080/"
        },
        "id": "NOwyUmgFDZRN",
        "outputId": "f8db81db-2bf0-47a9-d01f-e4f9972e7c37"
      },
      "execution_count": null,
      "outputs": [
        {
          "output_type": "execute_result",
          "data": {
            "text/plain": [
              "(541, 6)"
            ]
          },
          "metadata": {},
          "execution_count": 26
        }
      ]
    },
    {
      "cell_type": "code",
      "source": [
        "petr.info()"
      ],
      "metadata": {
        "colab": {
          "base_uri": "https://localhost:8080/"
        },
        "id": "nLO6WS3rcc3z",
        "outputId": "1cbd0839-e6dd-493e-d552-14b05a315edf"
      },
      "execution_count": null,
      "outputs": [
        {
          "output_type": "stream",
          "name": "stdout",
          "text": [
            "<class 'pandas.core.frame.DataFrame'>\n",
            "DatetimeIndex: 541 entries, 2020-09-15 to 2022-11-21\n",
            "Data columns (total 6 columns):\n",
            " #   Column     Non-Null Count  Dtype  \n",
            "---  ------     --------------  -----  \n",
            " 0   Open       541 non-null    float64\n",
            " 1   High       541 non-null    float64\n",
            " 2   Low        541 non-null    float64\n",
            " 3   Close      541 non-null    float64\n",
            " 4   Adj Close  541 non-null    float64\n",
            " 5   Volume     541 non-null    int64  \n",
            "dtypes: float64(5), int64(1)\n",
            "memory usage: 29.6 KB\n"
          ]
        }
      ]
    },
    {
      "cell_type": "markdown",
      "source": [
        "### 2.2 Estatística nos dados, com o decribe()"
      ],
      "metadata": {
        "id": "ILWTzyAFc5YG"
      }
    },
    {
      "cell_type": "code",
      "source": [
        "petr.describe()"
      ],
      "metadata": {
        "colab": {
          "base_uri": "https://localhost:8080/",
          "height": 300
        },
        "id": "N4J7_CRacn3k",
        "outputId": "657ed85f-c44e-4e77-d16a-ecd48ae645de"
      },
      "execution_count": null,
      "outputs": [
        {
          "output_type": "execute_result",
          "data": {
            "text/plain": [
              "             Open        High         Low       Close   Adj Close  \\\n",
              "count  541.000000  541.000000  541.000000  541.000000  541.000000   \n",
              "mean    17.839649   18.253567   17.376469   17.799556   17.755147   \n",
              "std      5.287541    5.347717    5.210894    5.291526    5.266616   \n",
              "min      7.430000    7.580000    7.210000    7.380000    7.380000   \n",
              "25%     13.910000   14.230000   13.270000   13.770000   13.753292   \n",
              "50%     18.430000   18.889999   17.889999   18.370001   18.322655   \n",
              "75%     22.129999   22.600000   21.459999   22.030001   21.956478   \n",
              "max     28.350000   28.780001   27.680000   28.350000   28.276932   \n",
              "\n",
              "             Volume  \n",
              "count  5.410000e+02  \n",
              "mean   6.973440e+06  \n",
              "std    5.287841e+06  \n",
              "min    1.224200e+06  \n",
              "25%    3.273100e+06  \n",
              "50%    5.300200e+06  \n",
              "75%    8.700100e+06  \n",
              "max    3.796890e+07  "
            ],
            "text/html": [
              "\n",
              "  <div id=\"df-536c5900-fbe0-4845-b65d-da292760fcac\">\n",
              "    <div class=\"colab-df-container\">\n",
              "      <div>\n",
              "<style scoped>\n",
              "    .dataframe tbody tr th:only-of-type {\n",
              "        vertical-align: middle;\n",
              "    }\n",
              "\n",
              "    .dataframe tbody tr th {\n",
              "        vertical-align: top;\n",
              "    }\n",
              "\n",
              "    .dataframe thead th {\n",
              "        text-align: right;\n",
              "    }\n",
              "</style>\n",
              "<table border=\"1\" class=\"dataframe\">\n",
              "  <thead>\n",
              "    <tr style=\"text-align: right;\">\n",
              "      <th></th>\n",
              "      <th>Open</th>\n",
              "      <th>High</th>\n",
              "      <th>Low</th>\n",
              "      <th>Close</th>\n",
              "      <th>Adj Close</th>\n",
              "      <th>Volume</th>\n",
              "    </tr>\n",
              "  </thead>\n",
              "  <tbody>\n",
              "    <tr>\n",
              "      <th>count</th>\n",
              "      <td>541.000000</td>\n",
              "      <td>541.000000</td>\n",
              "      <td>541.000000</td>\n",
              "      <td>541.000000</td>\n",
              "      <td>541.000000</td>\n",
              "      <td>5.410000e+02</td>\n",
              "    </tr>\n",
              "    <tr>\n",
              "      <th>mean</th>\n",
              "      <td>17.839649</td>\n",
              "      <td>18.253567</td>\n",
              "      <td>17.376469</td>\n",
              "      <td>17.799556</td>\n",
              "      <td>17.755147</td>\n",
              "      <td>6.973440e+06</td>\n",
              "    </tr>\n",
              "    <tr>\n",
              "      <th>std</th>\n",
              "      <td>5.287541</td>\n",
              "      <td>5.347717</td>\n",
              "      <td>5.210894</td>\n",
              "      <td>5.291526</td>\n",
              "      <td>5.266616</td>\n",
              "      <td>5.287841e+06</td>\n",
              "    </tr>\n",
              "    <tr>\n",
              "      <th>min</th>\n",
              "      <td>7.430000</td>\n",
              "      <td>7.580000</td>\n",
              "      <td>7.210000</td>\n",
              "      <td>7.380000</td>\n",
              "      <td>7.380000</td>\n",
              "      <td>1.224200e+06</td>\n",
              "    </tr>\n",
              "    <tr>\n",
              "      <th>25%</th>\n",
              "      <td>13.910000</td>\n",
              "      <td>14.230000</td>\n",
              "      <td>13.270000</td>\n",
              "      <td>13.770000</td>\n",
              "      <td>13.753292</td>\n",
              "      <td>3.273100e+06</td>\n",
              "    </tr>\n",
              "    <tr>\n",
              "      <th>50%</th>\n",
              "      <td>18.430000</td>\n",
              "      <td>18.889999</td>\n",
              "      <td>17.889999</td>\n",
              "      <td>18.370001</td>\n",
              "      <td>18.322655</td>\n",
              "      <td>5.300200e+06</td>\n",
              "    </tr>\n",
              "    <tr>\n",
              "      <th>75%</th>\n",
              "      <td>22.129999</td>\n",
              "      <td>22.600000</td>\n",
              "      <td>21.459999</td>\n",
              "      <td>22.030001</td>\n",
              "      <td>21.956478</td>\n",
              "      <td>8.700100e+06</td>\n",
              "    </tr>\n",
              "    <tr>\n",
              "      <th>max</th>\n",
              "      <td>28.350000</td>\n",
              "      <td>28.780001</td>\n",
              "      <td>27.680000</td>\n",
              "      <td>28.350000</td>\n",
              "      <td>28.276932</td>\n",
              "      <td>3.796890e+07</td>\n",
              "    </tr>\n",
              "  </tbody>\n",
              "</table>\n",
              "</div>\n",
              "      <button class=\"colab-df-convert\" onclick=\"convertToInteractive('df-536c5900-fbe0-4845-b65d-da292760fcac')\"\n",
              "              title=\"Convert this dataframe to an interactive table.\"\n",
              "              style=\"display:none;\">\n",
              "        \n",
              "  <svg xmlns=\"http://www.w3.org/2000/svg\" height=\"24px\"viewBox=\"0 0 24 24\"\n",
              "       width=\"24px\">\n",
              "    <path d=\"M0 0h24v24H0V0z\" fill=\"none\"/>\n",
              "    <path d=\"M18.56 5.44l.94 2.06.94-2.06 2.06-.94-2.06-.94-.94-2.06-.94 2.06-2.06.94zm-11 1L8.5 8.5l.94-2.06 2.06-.94-2.06-.94L8.5 2.5l-.94 2.06-2.06.94zm10 10l.94 2.06.94-2.06 2.06-.94-2.06-.94-.94-2.06-.94 2.06-2.06.94z\"/><path d=\"M17.41 7.96l-1.37-1.37c-.4-.4-.92-.59-1.43-.59-.52 0-1.04.2-1.43.59L10.3 9.45l-7.72 7.72c-.78.78-.78 2.05 0 2.83L4 21.41c.39.39.9.59 1.41.59.51 0 1.02-.2 1.41-.59l7.78-7.78 2.81-2.81c.8-.78.8-2.07 0-2.86zM5.41 20L4 18.59l7.72-7.72 1.47 1.35L5.41 20z\"/>\n",
              "  </svg>\n",
              "      </button>\n",
              "      \n",
              "  <style>\n",
              "    .colab-df-container {\n",
              "      display:flex;\n",
              "      flex-wrap:wrap;\n",
              "      gap: 12px;\n",
              "    }\n",
              "\n",
              "    .colab-df-convert {\n",
              "      background-color: #E8F0FE;\n",
              "      border: none;\n",
              "      border-radius: 50%;\n",
              "      cursor: pointer;\n",
              "      display: none;\n",
              "      fill: #1967D2;\n",
              "      height: 32px;\n",
              "      padding: 0 0 0 0;\n",
              "      width: 32px;\n",
              "    }\n",
              "\n",
              "    .colab-df-convert:hover {\n",
              "      background-color: #E2EBFA;\n",
              "      box-shadow: 0px 1px 2px rgba(60, 64, 67, 0.3), 0px 1px 3px 1px rgba(60, 64, 67, 0.15);\n",
              "      fill: #174EA6;\n",
              "    }\n",
              "\n",
              "    [theme=dark] .colab-df-convert {\n",
              "      background-color: #3B4455;\n",
              "      fill: #D2E3FC;\n",
              "    }\n",
              "\n",
              "    [theme=dark] .colab-df-convert:hover {\n",
              "      background-color: #434B5C;\n",
              "      box-shadow: 0px 1px 3px 1px rgba(0, 0, 0, 0.15);\n",
              "      filter: drop-shadow(0px 1px 2px rgba(0, 0, 0, 0.3));\n",
              "      fill: #FFFFFF;\n",
              "    }\n",
              "  </style>\n",
              "\n",
              "      <script>\n",
              "        const buttonEl =\n",
              "          document.querySelector('#df-536c5900-fbe0-4845-b65d-da292760fcac button.colab-df-convert');\n",
              "        buttonEl.style.display =\n",
              "          google.colab.kernel.accessAllowed ? 'block' : 'none';\n",
              "\n",
              "        async function convertToInteractive(key) {\n",
              "          const element = document.querySelector('#df-536c5900-fbe0-4845-b65d-da292760fcac');\n",
              "          const dataTable =\n",
              "            await google.colab.kernel.invokeFunction('convertToInteractive',\n",
              "                                                     [key], {});\n",
              "          if (!dataTable) return;\n",
              "\n",
              "          const docLinkHtml = 'Like what you see? Visit the ' +\n",
              "            '<a target=\"_blank\" href=https://colab.research.google.com/notebooks/data_table.ipynb>data table notebook</a>'\n",
              "            + ' to learn more about interactive tables.';\n",
              "          element.innerHTML = '';\n",
              "          dataTable['output_type'] = 'display_data';\n",
              "          await google.colab.output.renderOutput(dataTable, element);\n",
              "          const docLink = document.createElement('div');\n",
              "          docLink.innerHTML = docLinkHtml;\n",
              "          element.appendChild(docLink);\n",
              "        }\n",
              "      </script>\n",
              "    </div>\n",
              "  </div>\n",
              "  "
            ]
          },
          "metadata": {},
          "execution_count": 28
        }
      ]
    },
    {
      "cell_type": "markdown",
      "source": [
        "#### verificando se nos dados contem valores nulos"
      ],
      "metadata": {
        "id": "Kgf9N5J2dEWn"
      }
    },
    {
      "cell_type": "code",
      "source": [
        "petr.isna().sum()"
      ],
      "metadata": {
        "colab": {
          "base_uri": "https://localhost:8080/"
        },
        "id": "wtNj2Ln2cvWl",
        "outputId": "01dba86b-b131-4276-9342-9f0f78cf3b4d"
      },
      "execution_count": null,
      "outputs": [
        {
          "output_type": "execute_result",
          "data": {
            "text/plain": [
              "Open         0\n",
              "High         0\n",
              "Low          0\n",
              "Close        0\n",
              "Adj Close    0\n",
              "Volume       0\n",
              "dtype: int64"
            ]
          },
          "metadata": {},
          "execution_count": 29
        }
      ]
    },
    {
      "cell_type": "markdown",
      "source": [
        "## 3.0 Preparação Dos **Dados**"
      ],
      "metadata": {
        "id": "GYa9xuq3GYjg"
      }
    },
    {
      "cell_type": "markdown",
      "source": [
        "Preparando o conjunto de dados para encaixá-lo no modelo de Regressão linear"
      ],
      "metadata": {
        "id": "t9NnZtQ-GiDY"
      }
    },
    {
      "cell_type": "code",
      "source": [
        "def prepare_data(petr, forecast_col, forecast_out, test_size):\n",
        "  label = petr[forecast_col].shift(-forecast_out) # criando nova coluna chamada rótulo com as últimas 5 linhas são nan\n",
        "  X = np.array(petr[[forecast_col]]) # criando uma matriz de recursos\n",
        "  X = preprocessing.scale(X) # processando a matriz de recursos\n",
        "  X_lately = X[-forecast_out:] # criando a coluna que quero usar posteriormente no método de previsão\n",
        "  X = X[:-forecast_out] # X que conterá o treinamento e os testes\n",
        "  label.dropna(inplace=True) #drop os valores\n",
        "  y = np.array(label) # atribuindo Y\n",
        "  X_train, X_test, Y_train, Y_test = train_test_split(X, y, test_size=test_size, random_state=0) \n",
        "\n",
        "  response =[X_train, X_test, Y_train, Y_test, X_lately]\n",
        "  return response"
      ],
      "metadata": {
        "id": "A1-K-kARE7n_"
      },
      "execution_count": null,
      "outputs": []
    },
    {
      "cell_type": "markdown",
      "source": [
        "#### 3.1 Declarando a variável\n"
      ],
      "metadata": {
        "id": "3XFMDU83amCP"
      }
    },
    {
      "cell_type": "code",
      "source": [
        "forecast_col = 'Close'\n",
        "forecast_out = 5\n",
        "test_size = 0.2"
      ],
      "metadata": {
        "id": "SUlDAbmhFzCi"
      },
      "execution_count": null,
      "outputs": []
    },
    {
      "cell_type": "markdown",
      "source": [
        "## 4.0 Aplicação de Machine Learning para Previsão de Preço"
      ],
      "metadata": {
        "id": "BDbR1oYSa8Sn"
      }
    },
    {
      "cell_type": "code",
      "source": [
        "X_train, X_test, Y_train, Y_test, X_lately =prepare_data(petr, forecast_col, forecast_out, test_size) # chamando o método onde a validação cruzada e a preparação dos dados estão em\n",
        "aprender = LinearRegression() # inicializando o modelo de regressão linear\n",
        "aprender.fit(X_train, Y_train) # treinando o modelo de regressão linear"
      ],
      "metadata": {
        "colab": {
          "base_uri": "https://localhost:8080/"
        },
        "id": "dpw3oO3iFzEt",
        "outputId": "e1051eee-82e7-4640-dbdb-b7536c3356d7"
      },
      "execution_count": null,
      "outputs": [
        {
          "output_type": "execute_result",
          "data": {
            "text/plain": [
              "LinearRegression()"
            ]
          },
          "metadata": {},
          "execution_count": 32
        }
      ]
    },
    {
      "cell_type": "markdown",
      "source": [
        "## 5.0 Prevendo "
      ],
      "metadata": {
        "id": "jBGV5s0FoMwi"
      }
    },
    {
      "cell_type": "code",
      "source": [
        "score = aprender.score(X_test, Y_test) # testando o modelo de regressão linear\n",
        "forecast = aprender.predict(X_lately) # conjunto que conterá os dados previstos\n",
        "response = {} # criando objeto json\n",
        "response['test_score'] = score\n",
        "response['forecast_set'] = forecast\n",
        "\n",
        "\n",
        "display(response)"
      ],
      "metadata": {
        "colab": {
          "base_uri": "https://localhost:8080/",
          "height": 52
        },
        "id": "RQwH9wgdFzHE",
        "outputId": "fc98254a-c11d-4a8e-a038-5795f8ee9eff"
      },
      "execution_count": null,
      "outputs": [
        {
          "output_type": "display_data",
          "data": {
            "text/plain": [
              "{'test_score': 0.9413229450290025,\n",
              " 'forecast_set': array([8.20523277, 7.83903113, 7.74995477, 7.40354735, 7.55200781])}"
            ]
          },
          "metadata": {}
        }
      ]
    },
    {
      "cell_type": "markdown",
      "source": [
        "## ver novamente"
      ],
      "metadata": {
        "id": "GrrY23V9qbqh"
      }
    },
    {
      "cell_type": "code",
      "source": [
        "\n",
        "# previsao\n",
        "# ## https://colab.research.google.com/drive/1Nmfh0XLOQXc_yH_CQLEed8GZQvyaRv9P\n",
        "\n",
        "# site projeto\n",
        "# # https://thecleverprogrammer.com/2020/11/14/stock-price-prediction-using-machine-learning/\n",
        "\n",
        "\n",
        "# https://thecleverprogrammer.com/2020/11/14/breast-cancer-detection-with-machine-learning/\n",
        "\n",
        "## Mais de 100 projetos cientista de dados\n",
        "# https://thecleverprogrammer.com/2020/11/15/machine-learning-projects/"
      ],
      "metadata": {
        "id": "m5mpMao3abcn"
      },
      "execution_count": null,
      "outputs": []
    }
  ]
}